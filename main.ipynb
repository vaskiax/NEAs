{
 "cells": [
  {
   "cell_type": "markdown",
   "metadata": {},
   "source": [
    "**Objetivo**: Vamos a estudiar la órbita osculatriz de los asteroides cercanos a la Tierra o NEAs y su descripción en términos del CRTBP.\n"
   ]
  },
  {
   "cell_type": "code",
   "execution_count": null,
   "metadata": {},
   "outputs": [],
   "source": [
    "from proofs.nPi import nPi"
   ]
  },
  {
   "cell_type": "markdown",
   "metadata": {},
   "source": [
    "**Procedimiento**:\n",
    "\n",
    "1. En principio, un asteroide se considera *cercano a la Tierra* (o NEA, por su sigla en inglés, *Near Earth Asteroid*) si su órbita puede cruzar la órbita de la Tierra. Demuestre que para que la órbita de un asteroide cumpla está condición se debe dar que $q<Q_\\oplus$  y que $Q>q_\\oplus$, donde $q$ y $Q$ son las distancias al periapsis y al apoapsis de un cuerpo en una órbita."
   ]
  },
  {
   "cell_type": "code",
   "execution_count": null,
   "metadata": {},
   "outputs": [
    {
     "data": {
      "text/markdown": [
       "Let $Q_{NEA}$ be the afelion and $q_{NEA}$ the perihelion distances\\\n",
       "            while $Q_{E}$ and $q_{E}$ are the afelion and perihelion distances of the Earth, respectively."
      ],
      "text/plain": [
       "<IPython.core.display.Markdown object>"
      ]
     },
     "metadata": {},
     "output_type": "display_data"
    },
    {
     "data": {
      "text/markdown": [
       "These numbers are solutions to the equation $r(n) = \\frac{a(1-e^{2})}{1+e\\cos(n\\pi)}$\\\n",
       "                where $a$ is the semi-major axis, $e$ the eccentricity\\\n",
       "                    for $n \\in \\{0,1\\}$."
      ],
      "text/plain": [
       "<IPython.core.display.Markdown object>"
      ]
     },
     "metadata": {},
     "output_type": "display_data"
    },
    {
     "data": {
      "text/markdown": [
       "Hence, for n = 0, the perihelion distance for $q_{NEA}$ and $q_{E}$ is\\\n",
       "            $q_{NEA} = a(1-e)$ and $q_{E} = a_{E}(1-e_{E})$\\\n",
       "                where $a_{E}$ and $e_{E}$ are the semi-major axis and eccentricity\\\n",
       "                    of the Earth's orbit."
      ],
      "text/plain": [
       "<IPython.core.display.Markdown object>"
      ]
     },
     "metadata": {},
     "output_type": "display_data"
    },
    {
     "data": {
      "text/markdown": [
       "Similarly, for n = 1, the afelion distance for $Q_{NEA}$ and $Q_{E}$ is\\\n",
       "            $Q_{NEA} = a(1+e)$ and $Q_{E} = a_{E}(1+e_{E})$"
      ],
      "text/plain": [
       "<IPython.core.display.Markdown object>"
      ]
     },
     "metadata": {},
     "output_type": "display_data"
    },
    {
     "data": {
      "text/markdown": [
       "Since the condition for a minor solar system body to be classified as a NEA implies that the body's orbit\\\n",
       "            must have an interception point with the Earth's orbit, which necessarily means that the perihelion\\\n",
       "                and afelion distances of the body serve as lower and upper bounds for the semi-major axis of the asteroid's orbit."
      ],
      "text/plain": [
       "<IPython.core.display.Markdown object>"
      ]
     },
     "metadata": {},
     "output_type": "display_data"
    },
    {
     "data": {
      "text/markdown": [
       "So, the condition for a minor solar system body to be classified as a NEA is given by\\\n",
       "            the inequality: $q_{NEA} < r_{E} < Q_{NEA} $, where $r_{E}$ is the semi-major axis of the Earth's orbit."
      ],
      "text/plain": [
       "<IPython.core.display.Markdown object>"
      ]
     },
     "metadata": {},
     "output_type": "display_data"
    },
    {
     "data": {
      "text/markdown": [
       "However, Earth's orbit is not circular, so it has its own intrinsic bounds for the semi-major axis, which are given by the\\\n",
       "            inequality: $q_{E} \\leq r_{E} \\leq Q_{E}$."
      ],
      "text/plain": [
       "<IPython.core.display.Markdown object>"
      ]
     },
     "metadata": {},
     "output_type": "display_data"
    },
    {
     "data": {
      "text/markdown": [
       "Then, what is needed, is that the interception between these two intervals is not empty,\\\n",
       "            and such condition is met when the inequality max($q_{NEA}, q_{E}$) $\\leq$ min($Q_{NEA}, Q_{E}$) is satisfied."
      ],
      "text/plain": [
       "<IPython.core.display.Markdown object>"
      ]
     },
     "metadata": {},
     "output_type": "display_data"
    },
    {
     "data": {
      "text/markdown": [
       "Applied for the asteroid case, its afelion distance is, in general, greater than\\\n",
       "                the Earth's afelion distance. Hence, for an interception to happen the Earth's afelion distance\\\n",
       "                    must be greater than the asteroid's perihelion distance. Otherwise, the asteroid's greatest approach\\\n",
       "                        to the sun would never reach the interior of the Earth's orbit."
      ],
      "text/plain": [
       "<IPython.core.display.Markdown object>"
      ]
     },
     "metadata": {},
     "output_type": "display_data"
    },
    {
     "data": {
      "text/markdown": [
       "Thus, the condition for a minor solar system body to be classified as a NEA is given by the inequality:\\\n",
       "            $q_{NEA} < Q_{E}$."
      ],
      "text/plain": [
       "<IPython.core.display.Markdown object>"
      ]
     },
     "metadata": {},
     "output_type": "display_data"
    },
    {
     "data": {
      "text/markdown": [
       "Similarly, for the less common case where the asteroid's afelion distance is less\\\n",
       "                than the Earth's afelion distance, the inequality is reversed, leading to the condition:\\\n",
       "                          $Q_{NEA} > q_{E}$. Hence, arriving to the relations that must be met"
      ],
      "text/plain": [
       "<IPython.core.display.Markdown object>"
      ]
     },
     "metadata": {},
     "output_type": "display_data"
    }
   ],
   "source": [
    "nPi() "
   ]
  },
  {
   "cell_type": "code",
   "execution_count": null,
   "metadata": {},
   "outputs": [],
   "source": []
  },
  {
   "cell_type": "markdown",
   "metadata": {},
   "source": [
    "2. Haga un gráfico en el plano $e$-$a$ (estando $e$, la excentricidad en el eje y, y $a$ el semiejemayor en el eje x). Que muestre las órbitas para las cuáles $q=Q_\\oplus$, $Q=q_\\oplus$ y que haga un sombreado de las órbitas que cumplen la condición de cruzar la órbita de la Tierra."
   ]
  },
  {
   "cell_type": "markdown",
   "metadata": {},
   "source": [
    "3. Una condición dinámica más precisa para definir cuando un asteroide es una NEA, consiste tiene que ver con la constante de Jacobi o equivalentemente con el parámetro de Tisserand asociado al sistema Sol-Tierra:\n",
    "\n",
    "  $$\n",
    "  T \\equiv \\frac{a_\\oplus}{a}+2 \\cos i \\sqrt{\\left(\\frac{a}{a_\\oplus}\\right)\\left(1-e^2\\right)}\n",
    "  $$\n",
    "  o en términos del $a$ relativo del asteroide, $\\bar{a}=a/a_\\oplus$\n",
    "  $$\n",
    "  T \\equiv \\frac{1}{\\bar{a}}+2 \\cos i \\sqrt{\\bar{a}\\left(1-e^2\\right)}\n",
    "  $$\n",
    "\n",
    "  Demuestre que para asteroides con inclinación orbital $i=0$ la excentricidad de la órbita de los asteroides que tienen constante de Tisserand constante, $T$, cumple:\n",
    "\n",
    "  $$\n",
    "  e=\\sqrt{1-\\frac{1}{4 \\bar{a}^3 \\cos ^2 i}(T \\bar{a}-1)^2}\n",
    "  $$"
   ]
  },
  {
   "cell_type": "markdown",
   "metadata": {},
   "source": [
    "4. Haga un gráfico en el diagrama $e-a$ que hizo en 2 mostrando la ubicación en el diagrama de las curvas definidas por la ecuación en 3, cuando $T=2.5, 3.0, 3.5$. Compare las curvas resultantes con las que obtuvo en el punto 2. ¿Qué observa?\n",
    "\n"
   ]
  },
  {
   "cell_type": "markdown",
   "metadata": {},
   "source": [
    "5. En el archivo que encontrarán [este enlace](https://drive.google.com/file/d/1jKxVp8v-q4G11UVpy6wtoPYyv6VKNSLr/view?usp=sharing) están los elementos osculantes de más de 37000 NEAs conocidas.  Calcule para cada asteroide el parámetro de Tisserand. Dibuje la ubicación de estos asteroides en el diagrama $e-a$ incluyendo las curvas calculadas en 2 y 5. ¿Qué observa?."
   ]
  },
  {
   "cell_type": "markdown",
   "metadata": {},
   "source": [
    "6. **(Opcional)** Escoja de la base de datos de Asteroides todos los asteroides que tengan parámetro de Tisserand cercano de 3.0 y dibuje las órbitas de esos asteroides en el sistema rotante Sol-Tierra. Observe si existe alguna regularidad o si los asteroides tienen orbitas completamente arbitrarias."
   ]
  },
  {
   "cell_type": "markdown",
   "metadata": {},
   "source": []
  }
 ],
 "metadata": {
  "kernelspec": {
   "display_name": "celestials",
   "language": "python",
   "name": "python3"
  },
  "language_info": {
   "codemirror_mode": {
    "name": "ipython",
    "version": 3
   },
   "file_extension": ".py",
   "mimetype": "text/x-python",
   "name": "python",
   "nbconvert_exporter": "python",
   "pygments_lexer": "ipython3",
   "version": "3.12.7"
  }
 },
 "nbformat": 4,
 "nbformat_minor": 2
}
